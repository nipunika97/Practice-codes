{
 "cells": [
  {
   "cell_type": "code",
   "execution_count": 1,
   "id": "401454e9",
   "metadata": {},
   "outputs": [],
   "source": [
    "# Import turtle package\n",
    "import turtle\n",
    "\n",
    "# Creating a turtle object(pen)\n",
    "pen = turtle.Turtle()\n"
   ]
  },
  {
   "cell_type": "code",
   "execution_count": 2,
   "id": "24027257",
   "metadata": {},
   "outputs": [],
   "source": [
    "# Defining a method to draw curve\n",
    "def curve():\n",
    "\tfor i in range(200):\n",
    "\n",
    "\t\t# Defining step by step curve motion\n",
    "\t\tpen.right(1)\n",
    "\t\tpen.forward(1)\n"
   ]
  },
  {
   "cell_type": "code",
   "execution_count": 3,
   "id": "5d526006",
   "metadata": {},
   "outputs": [],
   "source": [
    "# Defining method to draw a full heart\n",
    "def heart():\n",
    "\n",
    "\t# Set the fill color to red\n",
    "\tpen.fillcolor('red')\n",
    "\n",
    "\t# Start filling the color\n",
    "\tpen.begin_fill()\n",
    "\n",
    "\t# Draw the left line\n",
    "\tpen.left(140)\n",
    "\tpen.forward(113)\n",
    "\n",
    "\t# Draw the left curve\n",
    "\tcurve()\n",
    "\tpen.left(120)\n",
    "\n",
    "\t# Draw the right curve\n",
    "\tcurve()\n",
    "\n",
    "\t# Draw the right line\n",
    "\tpen.forward(112)\n",
    "\n",
    "\t# Ending the filling of the color\n",
    "\tpen.end_fill()"
   ]
  },
  {
   "cell_type": "code",
   "execution_count": 4,
   "id": "474cef42",
   "metadata": {},
   "outputs": [],
   "source": [
    "# Defining method to write text\n",
    "def txt():\n",
    "\n",
    "\t# Move turtle to air\n",
    "\tpen.up()\n",
    "\n",
    "\t# Move turtle to a given position\n",
    "\tpen.setpos(-68, 95)\n",
    "\n",
    "\t# Move the turtle to the ground\n",
    "\tpen.down()\n",
    "\n",
    "\t# Set the text color to lightgreen\n",
    "\tpen.color('lightgreen')\n",
    "\n",
    "\t# Write the specified text in\n",
    "\t# specified font style and size\n",
    "\tpen.write(\"GeeksForGeeks\", font=(\n",
    "\t\"Verdana\", 12, \"bold\"))"
   ]
  },
  {
   "cell_type": "code",
   "execution_count": 5,
   "id": "6eead03f",
   "metadata": {},
   "outputs": [],
   "source": [
    "# Draw a heart\n",
    "heart()\n",
    "\n",
    "# Write text\n",
    "txt()\n",
    "\n",
    "# To hide turtle\n",
    "pen.ht()"
   ]
  }
 ],
 "metadata": {
  "kernelspec": {
   "display_name": "Python 3 (ipykernel)",
   "language": "python",
   "name": "python3"
  },
  "language_info": {
   "codemirror_mode": {
    "name": "ipython",
    "version": 3
   },
   "file_extension": ".py",
   "mimetype": "text/x-python",
   "name": "python",
   "nbconvert_exporter": "python",
   "pygments_lexer": "ipython3",
   "version": "3.9.12"
  }
 },
 "nbformat": 4,
 "nbformat_minor": 5
}
