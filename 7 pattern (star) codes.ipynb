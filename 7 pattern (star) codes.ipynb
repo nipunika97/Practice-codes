{
 "cells": [
  {
   "cell_type": "code",
   "execution_count": 1,
   "id": "cd349eea",
   "metadata": {},
   "outputs": [],
   "source": [
    "#pattern\n",
    "\n",
    "# *\n",
    "# **\n",
    "# ***\n",
    "# ****\n",
    "# *****"
   ]
  },
  {
   "cell_type": "code",
   "execution_count": 6,
   "id": "a3deaedd",
   "metadata": {},
   "outputs": [
    {
     "name": "stdout",
     "output_type": "stream",
     "text": [
      "Enter how many rows you want?  -  5\n",
      "Enter the charater whose pattern you want:  &\n"
     ]
    }
   ],
   "source": [
    "n=int(input(\"Enter how many rows you want?  -  \"))\n",
    "ch=str(input(\"Enter the charater whose pattern you want:  \"))"
   ]
  },
  {
   "cell_type": "code",
   "execution_count": 7,
   "id": "742846a6",
   "metadata": {},
   "outputs": [
    {
     "name": "stdout",
     "output_type": "stream",
     "text": [
      "&\n",
      "&&\n",
      "&&&\n",
      "&&&&\n",
      "&&&&&\n"
     ]
    }
   ],
   "source": [
    "def Rtri_inc(x):\n",
    "    for i in range(1,x+1):\n",
    "        print(ch*i,end='\\n')\n",
    "        \n",
    "Rtri_inc(n)"
   ]
  },
  {
   "cell_type": "code",
   "execution_count": null,
   "id": "a42bc341",
   "metadata": {},
   "outputs": [],
   "source": [
    "#pattern\n",
    "\n",
    "#    *\n",
    "#   **\n",
    "#  ***\n",
    "# ****\n",
    "#*****"
   ]
  },
  {
   "cell_type": "code",
   "execution_count": 9,
   "id": "ed532f6e",
   "metadata": {},
   "outputs": [
    {
     "name": "stdout",
     "output_type": "stream",
     "text": [
      "     &\n",
      "    &&\n",
      "   &&&\n",
      "  &&&&\n",
      " &&&&&\n"
     ]
    }
   ],
   "source": [
    "def Ltri_inc(x):\n",
    "    for i in range(1,x+1):\n",
    "        print(\" \"*(x-i),ch*i,end='\\n')\n",
    "        \n",
    "Ltri_inc(n)"
   ]
  },
  {
   "cell_type": "code",
   "execution_count": null,
   "id": "a8eb6cb0",
   "metadata": {},
   "outputs": [],
   "source": [
    "#pattern\n",
    "\n",
    "# *****\n",
    "# ****\n",
    "# ***\n",
    "# **\n",
    "# *"
   ]
  },
  {
   "cell_type": "code",
   "execution_count": 11,
   "id": "018c5e7a",
   "metadata": {},
   "outputs": [
    {
     "name": "stdout",
     "output_type": "stream",
     "text": [
      "&&&&&\n",
      "&&&&\n",
      "&&&\n",
      "&&\n",
      "&\n"
     ]
    }
   ],
   "source": [
    "def Rtri_dec(x):\n",
    "    for i in range(x,0,-1):\n",
    "        print(ch*i,end='\\n')\n",
    "        \n",
    "Rtri_dec(n)"
   ]
  },
  {
   "cell_type": "code",
   "execution_count": null,
   "id": "6a9a4f73",
   "metadata": {},
   "outputs": [],
   "source": [
    "#pattern\n",
    "\n",
    "# *****\n",
    "#  ****\n",
    "#   ***\n",
    "#    **\n",
    "#     *"
   ]
  },
  {
   "cell_type": "code",
   "execution_count": 12,
   "id": "c937eec1",
   "metadata": {},
   "outputs": [
    {
     "name": "stdout",
     "output_type": "stream",
     "text": [
      " &&&&&\n",
      "  &&&&\n",
      "   &&&\n",
      "    &&\n",
      "     &\n"
     ]
    }
   ],
   "source": [
    "def Ltri_dec(x):\n",
    "    for i in range(x,0,-1):\n",
    "        print(\" \"*(x-i),ch*i,end='\\n')\n",
    "        \n",
    "Ltri_dec(n)"
   ]
  },
  {
   "cell_type": "code",
   "execution_count": null,
   "id": "6ba42950",
   "metadata": {},
   "outputs": [],
   "source": [
    "#pattern\n",
    "\n",
    "#    *\n",
    "#   ***\n",
    "#  *****\n",
    "# *******\n",
    "#*********"
   ]
  },
  {
   "cell_type": "code",
   "execution_count": 18,
   "id": "059ef64a",
   "metadata": {},
   "outputs": [
    {
     "name": "stdout",
     "output_type": "stream",
     "text": [
      "     &     \n",
      "    &&&    \n",
      "   &&&&&   \n",
      "  &&&&&&&  \n",
      " &&&&&&&&& \n"
     ]
    }
   ],
   "source": [
    "def pyr_inc(x):\n",
    "    odd_ele=(2*x)-1     # for '*'s\n",
    "    half_odd=int((odd_ele-1)/2)   #For spaces\n",
    "    for i in range(1,odd_ele+1):\n",
    "        if i%2!=0:\n",
    "            print(\" \" * half_odd , ch*i , \" \" * half_odd , end='\\n')\n",
    "            half_odd-=1\n",
    "        \n",
    "pyr_inc(n)"
   ]
  },
  {
   "cell_type": "code",
   "execution_count": null,
   "id": "e2da5501",
   "metadata": {},
   "outputs": [],
   "source": [
    "#pattern\n",
    "\n",
    "# *********\n",
    "#  *******\n",
    "#   *****\n",
    "#    ***\n",
    "#     *"
   ]
  },
  {
   "cell_type": "code",
   "execution_count": 24,
   "id": "1b315e7e",
   "metadata": {},
   "outputs": [
    {
     "name": "stdout",
     "output_type": "stream",
     "text": [
      " &&&&&&&&& \n",
      "  &&&&&&&  \n",
      "   &&&&&   \n",
      "    &&&    \n",
      "     &     \n"
     ]
    }
   ],
   "source": [
    "def rev_pyr(x):\n",
    "    odd_ele=(2*x)-1             # for '*'s\n",
    "    half_odd=int((odd_ele-1)/2)  #for spaces\n",
    "    \n",
    "    s = half_odd\n",
    "    \n",
    "    for i in range(odd_ele,0,-1):\n",
    "         if i%2!=0:\n",
    "            print(\" \" * (half_odd - s) , ch*i , \" \" * (half_odd - s) , end='\\n')\n",
    "            s-=1\n",
    "            \n",
    "rev_pyr(n)"
   ]
  },
  {
   "cell_type": "code",
   "execution_count": null,
   "id": "eaf42783",
   "metadata": {},
   "outputs": [],
   "source": [
    "#pattern\n",
    "\n",
    "#     *\n",
    "#    ***\n",
    "#   *****\n",
    "#  *******\n",
    "# *********\n",
    "# *********\n",
    "#  *******\n",
    "#   *****\n",
    "#    ***\n",
    "#     *"
   ]
  },
  {
   "cell_type": "code",
   "execution_count": 26,
   "id": "6cfaca0e",
   "metadata": {},
   "outputs": [
    {
     "name": "stdout",
     "output_type": "stream",
     "text": [
      "     &     \n",
      "    &&&    \n",
      "   &&&&&   \n",
      "  &&&&&&&  \n",
      " &&&&&&&&& \n",
      " &&&&&&&&& \n",
      "  &&&&&&&  \n",
      "   &&&&&   \n",
      "    &&&    \n",
      "     &     \n"
     ]
    }
   ],
   "source": [
    "def diamond(x):\n",
    "    odd_ele=(2*x)-1             # for '*'s\n",
    "    half_odd=int((odd_ele-1)/2)  #for spaces\n",
    "    \n",
    "    #upper pyramid \n",
    "    \n",
    "    for i in range(1,odd_ele+1):\n",
    "        if i%2!=0:\n",
    "            print(\" \" * half_odd , ch*i , \" \" * half_odd , end='\\n')\n",
    "            half_odd-=1    \n",
    "            \n",
    "    #lower pyramid\n",
    "\n",
    "    \n",
    "    s = half_odd\n",
    "    \n",
    "    for i in range(odd_ele,0,-1):\n",
    "         if i%2!=0:\n",
    "            print(\" \" * (half_odd - s) , ch*i , \" \" * (half_odd - s) , end='\\n')\n",
    "            s-=1\n",
    "            \n",
    "diamond(n)"
   ]
  },
  {
   "cell_type": "code",
   "execution_count": null,
   "id": "11b8f1cb",
   "metadata": {},
   "outputs": [],
   "source": []
  }
 ],
 "metadata": {
  "kernelspec": {
   "display_name": "Python 3 (ipykernel)",
   "language": "python",
   "name": "python3"
  },
  "language_info": {
   "codemirror_mode": {
    "name": "ipython",
    "version": 3
   },
   "file_extension": ".py",
   "mimetype": "text/x-python",
   "name": "python",
   "nbconvert_exporter": "python",
   "pygments_lexer": "ipython3",
   "version": "3.9.12"
  }
 },
 "nbformat": 4,
 "nbformat_minor": 5
}
