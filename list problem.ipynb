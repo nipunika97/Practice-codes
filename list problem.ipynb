{
 "cells": [
  {
   "cell_type": "code",
   "execution_count": null,
   "id": "d317a34e",
   "metadata": {},
   "outputs": [],
   "source": [
    "#creating a list from 2 lists under some condition\n",
    "#  list1 = [10,20,25,30,35]\n",
    "#list2 = [40,45,60,75,90]\n",
    "\n",
    "#resukt list = [25,35,40,60,90]"
   ]
  },
  {
   "cell_type": "code",
   "execution_count": 1,
   "id": "780e4edf",
   "metadata": {},
   "outputs": [
    {
     "name": "stdout",
     "output_type": "stream",
     "text": [
      "10 20 25 30 35\n",
      "40 45 60 75 90\n"
     ]
    }
   ],
   "source": [
    "l1=list(map(int,input().split()))\n",
    "l2=list(map(int,input().split()))"
   ]
  },
  {
   "cell_type": "code",
   "execution_count": 2,
   "id": "ec53c429",
   "metadata": {},
   "outputs": [
    {
     "name": "stdout",
     "output_type": "stream",
     "text": [
      "[10, 20, 25, 30, 35] \n",
      " [40, 45, 60, 75, 90]\n"
     ]
    }
   ],
   "source": [
    "print(l1,'\\n',l2)"
   ]
  },
  {
   "cell_type": "code",
   "execution_count": 4,
   "id": "6bd566de",
   "metadata": {},
   "outputs": [
    {
     "data": {
      "text/plain": [
       "[25, 35, 40, 60, 90]"
      ]
     },
     "execution_count": 4,
     "metadata": {},
     "output_type": "execute_result"
    }
   ],
   "source": [
    "reslist=[]\n",
    "\n",
    "for i in l1:\n",
    "    if i%2!=0:\n",
    "        reslist.append(i)\n",
    "for j in l2:\n",
    "    if j%2==0:\n",
    "        reslist.append(j)\n",
    "print(reslist)\n"
   ]
  },
  {
   "cell_type": "code",
   "execution_count": null,
   "id": "c8866fd0",
   "metadata": {},
   "outputs": [],
   "source": []
  }
 ],
 "metadata": {
  "kernelspec": {
   "display_name": "Python 3 (ipykernel)",
   "language": "python",
   "name": "python3"
  },
  "language_info": {
   "codemirror_mode": {
    "name": "ipython",
    "version": 3
   },
   "file_extension": ".py",
   "mimetype": "text/x-python",
   "name": "python",
   "nbconvert_exporter": "python",
   "pygments_lexer": "ipython3",
   "version": "3.9.12"
  }
 },
 "nbformat": 4,
 "nbformat_minor": 5
}
