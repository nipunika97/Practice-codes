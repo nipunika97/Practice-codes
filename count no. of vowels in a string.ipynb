{
 "cells": [
  {
   "cell_type": "code",
   "execution_count": 9,
   "id": "5bdfbc53",
   "metadata": {},
   "outputs": [
    {
     "name": "stdout",
     "output_type": "stream",
     "text": [
      "i am ok\n"
     ]
    }
   ],
   "source": [
    "sl = input()\n"
   ]
  },
  {
   "cell_type": "code",
   "execution_count": 10,
   "id": "8dc04b75",
   "metadata": {},
   "outputs": [
    {
     "name": "stdout",
     "output_type": "stream",
     "text": [
      "The number of vowels in i am ok is 3\n"
     ]
    }
   ],
   "source": [
    "vowels = ['a','e','i','o','u']\n",
    "c=0\n",
    "for i in sl:\n",
    "    for j in vowels:\n",
    "        if i==j:\n",
    "            c+=1\n",
    "print(\"The number of vowels in {} is {}\".format(str1,c))"
   ]
  },
  {
   "cell_type": "code",
   "execution_count": null,
   "id": "31838080",
   "metadata": {},
   "outputs": [],
   "source": []
  }
 ],
 "metadata": {
  "kernelspec": {
   "display_name": "Python 3 (ipykernel)",
   "language": "python",
   "name": "python3"
  },
  "language_info": {
   "codemirror_mode": {
    "name": "ipython",
    "version": 3
   },
   "file_extension": ".py",
   "mimetype": "text/x-python",
   "name": "python",
   "nbconvert_exporter": "python",
   "pygments_lexer": "ipython3",
   "version": "3.9.12"
  }
 },
 "nbformat": 4,
 "nbformat_minor": 5
}
