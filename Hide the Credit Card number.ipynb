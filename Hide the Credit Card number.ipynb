{
 "cells": [
  {
   "cell_type": "code",
   "execution_count": 3,
   "id": "c5352e50",
   "metadata": {},
   "outputs": [
    {
     "name": "stdout",
     "output_type": "stream",
     "text": [
      "Enter your Credit Card number :  123456789\n"
     ]
    },
    {
     "data": {
      "text/plain": [
       "['1', '2', '3', '4', '5', '6', '7', '8', '9']"
      ]
     },
     "execution_count": 3,
     "metadata": {},
     "output_type": "execute_result"
    }
   ],
   "source": [
    "cred = list(input(\"Enter your Credit Card number :  \"))\n",
    "cred"
   ]
  },
  {
   "cell_type": "code",
   "execution_count": 8,
   "id": "9322ce71",
   "metadata": {},
   "outputs": [
    {
     "name": "stdout",
     "output_type": "stream",
     "text": [
      "The credit card number is entered. \n",
      " *****6789\n"
     ]
    }
   ],
   "source": [
    "for i in range(len(cred)-4):\n",
    "    cred[i]='*'\n",
    "print(\"The credit card number is entered. \\n\" , ''.join(cred))  "
   ]
  },
  {
   "cell_type": "code",
   "execution_count": null,
   "id": "f31f753f",
   "metadata": {},
   "outputs": [],
   "source": []
  }
 ],
 "metadata": {
  "kernelspec": {
   "display_name": "Python 3 (ipykernel)",
   "language": "python",
   "name": "python3"
  },
  "language_info": {
   "codemirror_mode": {
    "name": "ipython",
    "version": 3
   },
   "file_extension": ".py",
   "mimetype": "text/x-python",
   "name": "python",
   "nbconvert_exporter": "python",
   "pygments_lexer": "ipython3",
   "version": "3.9.12"
  }
 },
 "nbformat": 4,
 "nbformat_minor": 5
}
