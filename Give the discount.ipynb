{
 "cells": [
  {
   "cell_type": "markdown",
   "id": "94c31bd4",
   "metadata": {},
   "source": [
    "Takes the 2 inputs: the full price and discount percentage as integer\n",
    "returns the price paid after discount"
   ]
  },
  {
   "cell_type": "code",
   "execution_count": 6,
   "id": "b8272d7f",
   "metadata": {},
   "outputs": [
    {
     "name": "stdout",
     "output_type": "stream",
     "text": [
      "Enter the Full Price : 100\n",
      "Enter the Discount percentage (as integers): 50\n"
     ]
    }
   ],
   "source": [
    "p = int(input(\"Enter the Full Price : Rs.\"))\n",
    "d = int(input(\"Enter the Discount percentage (as integers): \"))"
   ]
  },
  {
   "cell_type": "code",
   "execution_count": 7,
   "id": "c4eb75e8",
   "metadata": {},
   "outputs": [
    {
     "name": "stdout",
     "output_type": "stream",
     "text": [
      "The final discounted price is:  50.0\n"
     ]
    }
   ],
   "source": [
    "print(\"The final discounted price is: Rs.\" , (p*((100-d)/100)) )"
   ]
  },
  {
   "cell_type": "code",
   "execution_count": null,
   "id": "c6268a62",
   "metadata": {},
   "outputs": [],
   "source": []
  }
 ],
 "metadata": {
  "kernelspec": {
   "display_name": "Python 3 (ipykernel)",
   "language": "python",
   "name": "python3"
  },
  "language_info": {
   "codemirror_mode": {
    "name": "ipython",
    "version": 3
   },
   "file_extension": ".py",
   "mimetype": "text/x-python",
   "name": "python",
   "nbconvert_exporter": "python",
   "pygments_lexer": "ipython3",
   "version": "3.9.12"
  }
 },
 "nbformat": 4,
 "nbformat_minor": 5
}
