{
 "cells": [
  {
   "cell_type": "markdown",
   "id": "5c32255a",
   "metadata": {},
   "source": [
    "Are the Xs equal to the Os?\n",
    "Create a Python function that accepts a string. This function should count the number of Xs and the number of Os in the string.\n",
    "It should then return a boolean value of either True or False.\n",
    "\n",
    "If the count of Xs and Os are equal, then the function should return True. If the count isn't the same, it should return False. If there are no Xs or Os in the string, it should also return True because 0 equals 0. The string can contain any type and number of characters."
   ]
  },
  {
   "cell_type": "code",
   "execution_count": 8,
   "id": "6c1849fc",
   "metadata": {},
   "outputs": [
    {
     "name": "stdout",
     "output_type": "stream",
     "text": [
      "Enter: xo xxoo\n"
     ]
    },
    {
     "data": {
      "text/plain": [
       "'xo xxoo'"
      ]
     },
     "execution_count": 8,
     "metadata": {},
     "output_type": "execute_result"
    }
   ],
   "source": [
    "str1 = input(\"Enter: \")\n",
    "str1"
   ]
  },
  {
   "cell_type": "code",
   "execution_count": 9,
   "id": "6f5cc52b",
   "metadata": {},
   "outputs": [
    {
     "data": {
      "text/plain": [
       "['X', 'O', ' ', 'X', 'X', 'O', 'O']"
      ]
     },
     "execution_count": 9,
     "metadata": {},
     "output_type": "execute_result"
    }
   ],
   "source": [
    "sl = list(str1.upper())\n",
    "sl"
   ]
  },
  {
   "cell_type": "code",
   "execution_count": 10,
   "id": "d453b80e",
   "metadata": {},
   "outputs": [
    {
     "name": "stdout",
     "output_type": "stream",
     "text": [
      "True\n"
     ]
    }
   ],
   "source": [
    "cx=0\n",
    "co=0\n",
    "for i in sl:\n",
    "    if i=='X':\n",
    "        cx+=1\n",
    "    if i=='O':\n",
    "        co+=1\n",
    "if cx==co:\n",
    "    print(True)\n",
    "else:\n",
    "    print(False)"
   ]
  },
  {
   "cell_type": "code",
   "execution_count": null,
   "id": "8acbe307",
   "metadata": {},
   "outputs": [],
   "source": []
  }
 ],
 "metadata": {
  "kernelspec": {
   "display_name": "Python 3 (ipykernel)",
   "language": "python",
   "name": "python3"
  },
  "language_info": {
   "codemirror_mode": {
    "name": "ipython",
    "version": 3
   },
   "file_extension": ".py",
   "mimetype": "text/x-python",
   "name": "python",
   "nbconvert_exporter": "python",
   "pygments_lexer": "ipython3",
   "version": "3.9.12"
  }
 },
 "nbformat": 4,
 "nbformat_minor": 5
}
