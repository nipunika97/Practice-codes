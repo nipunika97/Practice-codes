{
 "cells": [
  {
   "cell_type": "code",
   "execution_count": 1,
   "id": "6d6223fb",
   "metadata": {},
   "outputs": [
    {
     "name": "stdout",
     "output_type": "stream",
     "text": [
      "Enter the n of nPr or nCr : 5\n",
      "Enter the r of nPr or nCr : 3\n"
     ]
    }
   ],
   "source": [
    "n=int(input(\"Enter the n of nPr or nCr : \"))\n",
    "r=int(input(\"Enter the r of nPr or nCr : \"))"
   ]
  },
  {
   "cell_type": "code",
   "execution_count": 4,
   "id": "1f36a463",
   "metadata": {},
   "outputs": [
    {
     "name": "stdout",
     "output_type": "stream",
     "text": [
      "The Permutation 5P3 is : 60.0\n",
      "The Combination 5C3 is : 10.0\n"
     ]
    }
   ],
   "source": [
    "import math\n",
    "p=(math.factorial(n)/math.factorial(n-r))\n",
    "c=(math.factorial(n)/(math.factorial(n-r)*math.factorial(r)))\n",
    "\n",
    "print(\"The Permutation {}P{} is : {}\".format(n,r,p))\n",
    "print(\"The Combination {}C{} is : {}\".format(n,r,c))"
   ]
  },
  {
   "cell_type": "code",
   "execution_count": null,
   "id": "1445b58b",
   "metadata": {},
   "outputs": [],
   "source": []
  }
 ],
 "metadata": {
  "kernelspec": {
   "display_name": "Python 3 (ipykernel)",
   "language": "python",
   "name": "python3"
  },
  "language_info": {
   "codemirror_mode": {
    "name": "ipython",
    "version": 3
   },
   "file_extension": ".py",
   "mimetype": "text/x-python",
   "name": "python",
   "nbconvert_exporter": "python",
   "pygments_lexer": "ipython3",
   "version": "3.9.12"
  }
 },
 "nbformat": 4,
 "nbformat_minor": 5
}
