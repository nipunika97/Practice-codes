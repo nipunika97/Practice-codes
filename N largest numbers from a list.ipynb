{
 "cells": [
  {
   "cell_type": "code",
   "execution_count": 1,
   "id": "1b4da488",
   "metadata": {},
   "outputs": [
    {
     "name": "stdout",
     "output_type": "stream",
     "text": [
      "5 2 9 10 23 4\n"
     ]
    }
   ],
   "source": [
    "ilst=list(map(int,input().split()))\n",
    "lst=list(ilst)    #list(ilst) helps in creating a copy that will not change when we change the original list\n"
   ]
  },
  {
   "cell_type": "code",
   "execution_count": 2,
   "id": "6dbe5e92",
   "metadata": {},
   "outputs": [
    {
     "name": "stdout",
     "output_type": "stream",
     "text": [
      "how many largest numbers needed? \n",
      "- 3\n"
     ]
    }
   ],
   "source": [
    "n=int(input(\"how many largest numbers needed? \\n- \"))"
   ]
  },
  {
   "cell_type": "code",
   "execution_count": 3,
   "id": "24c9488a",
   "metadata": {},
   "outputs": [
    {
     "name": "stdout",
     "output_type": "stream",
     "text": [
      "The 3 largest numbers out of the numbers [5, 2, 9, 10, 23, 4] are: [23, 10, 9] \n"
     ]
    }
   ],
   "source": [
    "nlst=[]\n",
    "for i in range(n):\n",
    "    maxnum=max(lst)\n",
    "    nlst.append(maxnum)\n",
    "    lst.remove(maxnum)\n",
    "print(\"The {} largest numbers out of the numbers {} are: {} \".format(n,ilst,nlst))"
   ]
  }
 ],
 "metadata": {
  "kernelspec": {
   "display_name": "Python 3 (ipykernel)",
   "language": "python",
   "name": "python3"
  },
  "language_info": {
   "codemirror_mode": {
    "name": "ipython",
    "version": 3
   },
   "file_extension": ".py",
   "mimetype": "text/x-python",
   "name": "python",
   "nbconvert_exporter": "python",
   "pygments_lexer": "ipython3",
   "version": "3.10.2"
  }
 },
 "nbformat": 4,
 "nbformat_minor": 5
}
