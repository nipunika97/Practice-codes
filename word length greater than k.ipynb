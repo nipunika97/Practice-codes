{
 "cells": [
  {
   "cell_type": "code",
   "execution_count": 1,
   "id": "2e5dd80f",
   "metadata": {},
   "outputs": [],
   "source": [
    "#   find words which are greater than given length k"
   ]
  },
  {
   "cell_type": "code",
   "execution_count": 2,
   "id": "fc2810bd",
   "metadata": {},
   "outputs": [
    {
     "name": "stdout",
     "output_type": "stream",
     "text": [
      "cat deer\n"
     ]
    },
    {
     "data": {
      "text/plain": [
       "['cat', 'deer']"
      ]
     },
     "execution_count": 2,
     "metadata": {},
     "output_type": "execute_result"
    }
   ],
   "source": [
    "lst=list(input().split())\n",
    "lst"
   ]
  },
  {
   "cell_type": "code",
   "execution_count": 3,
   "id": "9fb82f6b",
   "metadata": {},
   "outputs": [
    {
     "name": "stdout",
     "output_type": "stream",
     "text": [
      "Enter the length above which the word should be: 3\n"
     ]
    }
   ],
   "source": [
    "k=int(input(\"Enter the length above which the word should be: \"))"
   ]
  },
  {
   "cell_type": "code",
   "execution_count": 6,
   "id": "34f6e513",
   "metadata": {},
   "outputs": [
    {
     "name": "stdout",
     "output_type": "stream",
     "text": [
      "The words having word length > k are: \n",
      "deer\n"
     ]
    }
   ],
   "source": [
    "res=[]\n",
    "for wrd in lst:\n",
    "    if len(wrd)>k:\n",
    "        res.append(wrd)\n",
    "print(\"The words having word length > k are: \")\n",
    "print(*res,sep=\"\\n\")"
   ]
  }
 ],
 "metadata": {
  "kernelspec": {
   "display_name": "Python 3 (ipykernel)",
   "language": "python",
   "name": "python3"
  },
  "language_info": {
   "codemirror_mode": {
    "name": "ipython",
    "version": 3
   },
   "file_extension": ".py",
   "mimetype": "text/x-python",
   "name": "python",
   "nbconvert_exporter": "python",
   "pygments_lexer": "ipython3",
   "version": "3.10.2"
  }
 },
 "nbformat": 4,
 "nbformat_minor": 5
}
