{
 "cells": [
  {
   "cell_type": "code",
   "execution_count": 5,
   "id": "8effead5",
   "metadata": {},
   "outputs": [
    {
     "name": "stdout",
     "output_type": "stream",
     "text": [
      "Enter:  3 1 3 2 2 4 2 6\n"
     ]
    },
    {
     "data": {
      "text/plain": [
       "['3', '1', '3', '2', '2', '4', '2', '6']"
      ]
     },
     "execution_count": 5,
     "metadata": {},
     "output_type": "execute_result"
    }
   ],
   "source": [
    "arr=list(input(\"Enter:  \").split())\n",
    "arr"
   ]
  },
  {
   "cell_type": "code",
   "execution_count": 8,
   "id": "85310ad6",
   "metadata": {},
   "outputs": [
    {
     "name": "stdout",
     "output_type": "stream",
     "text": [
      "\n",
      "The list after removing Duplicate elements is:\n",
      " ['3', '1', '2', '4', '6']\n"
     ]
    }
   ],
   "source": [
    "ar1=[]\n",
    "for i in arr:\n",
    "    if i not in ar1:\n",
    "        ar1.append(i)\n",
    "print(\"\\nThe list after removing Duplicate elements is:\\n\",ar1)"
   ]
  },
  {
   "cell_type": "code",
   "execution_count": null,
   "id": "8b5f4ca3",
   "metadata": {},
   "outputs": [],
   "source": []
  }
 ],
 "metadata": {
  "kernelspec": {
   "display_name": "Python 3 (ipykernel)",
   "language": "python",
   "name": "python3"
  },
  "language_info": {
   "codemirror_mode": {
    "name": "ipython",
    "version": 3
   },
   "file_extension": ".py",
   "mimetype": "text/x-python",
   "name": "python",
   "nbconvert_exporter": "python",
   "pygments_lexer": "ipython3",
   "version": "3.9.12"
  }
 },
 "nbformat": 4,
 "nbformat_minor": 5
}
