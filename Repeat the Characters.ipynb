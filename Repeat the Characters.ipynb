{
 "cells": [
  {
   "cell_type": "markdown",
   "id": "05437783",
   "metadata": {},
   "source": [
    "function should return a string, with each character in the original string doubled."
   ]
  },
  {
   "cell_type": "code",
   "execution_count": 1,
   "id": "cde8b85d",
   "metadata": {},
   "outputs": [
    {
     "name": "stdout",
     "output_type": "stream",
     "text": [
      "Enter: 12cv3\n"
     ]
    }
   ],
   "source": [
    "str1 = list(input(\"Enter: \"))"
   ]
  },
  {
   "cell_type": "code",
   "execution_count": 2,
   "id": "ca3a4994",
   "metadata": {},
   "outputs": [
    {
     "name": "stdout",
     "output_type": "stream",
     "text": [
      "The (doubled character) list is:  1122ccvv33\n"
     ]
    }
   ],
   "source": [
    "res_list=[]\n",
    "for i in str1:\n",
    "    res_list.append(i)\n",
    "    res_list.append(i)\n",
    "    \n",
    "print(\"The (doubled character) list is: \" , ''.join(res_list))"
   ]
  }
 ],
 "metadata": {
  "kernelspec": {
   "display_name": "Python 3 (ipykernel)",
   "language": "python",
   "name": "python3"
  },
  "language_info": {
   "codemirror_mode": {
    "name": "ipython",
    "version": 3
   },
   "file_extension": ".py",
   "mimetype": "text/x-python",
   "name": "python",
   "nbconvert_exporter": "python",
   "pygments_lexer": "ipython3",
   "version": "3.9.12"
  }
 },
 "nbformat": 4,
 "nbformat_minor": 5
}
