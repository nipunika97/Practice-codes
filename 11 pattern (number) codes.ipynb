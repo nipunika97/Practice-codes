{
 "cells": [
  {
   "cell_type": "code",
   "execution_count": 1,
   "id": "6edb60f1",
   "metadata": {},
   "outputs": [],
   "source": [
    "#pattern\n",
    "#    1\n",
    "#    1 2\n",
    "#    1 2 3\n",
    "#    1 2 3 4\n",
    "#    1 2 3 4 5   "
   ]
  },
  {
   "cell_type": "code",
   "execution_count": 2,
   "id": "b005b08c",
   "metadata": {},
   "outputs": [
    {
     "name": "stdout",
     "output_type": "stream",
     "text": [
      "How many rows you want? -  5\n"
     ]
    }
   ],
   "source": [
    "n=int(input(\"How many rows you want? -  \"))"
   ]
  },
  {
   "cell_type": "code",
   "execution_count": 3,
   "id": "555a07d6",
   "metadata": {},
   "outputs": [
    {
     "name": "stdout",
     "output_type": "stream",
     "text": [
      "1\n",
      "12\n",
      "123\n",
      "1234\n",
      "12345\n"
     ]
    }
   ],
   "source": [
    "def right_tri_num(x):\n",
    "    for i in range(1,x+1):\n",
    "        for j in range(1,i+1):\n",
    "            print(j,end='')\n",
    "        print(end='\\n')\n",
    "\n",
    "right_tri_num(n)"
   ]
  },
  {
   "cell_type": "code",
   "execution_count": 4,
   "id": "fe5ac7c2",
   "metadata": {},
   "outputs": [],
   "source": [
    "#pattern\n",
    "#    1\n",
    "#    2 1\n",
    "#    3 2 1\n",
    "#    4 3 2 1\n",
    "#    5 4 3 2 1   "
   ]
  },
  {
   "cell_type": "code",
   "execution_count": 5,
   "id": "da285097",
   "metadata": {},
   "outputs": [
    {
     "name": "stdout",
     "output_type": "stream",
     "text": [
      "1\n",
      "21\n",
      "321\n",
      "4321\n",
      "54321\n"
     ]
    }
   ],
   "source": [
    "def right_tri_num_dec(x):\n",
    "    for i in range(1,x+1):\n",
    "        for j in range(i,0,-1):\n",
    "            print(j,end='')\n",
    "        print(end='\\n')\n",
    "\n",
    "right_tri_num_dec(n)"
   ]
  },
  {
   "cell_type": "code",
   "execution_count": 6,
   "id": "99312249",
   "metadata": {},
   "outputs": [],
   "source": [
    "#pattern\n",
    "#    1\n",
    "#    2 2\n",
    "#    3 3 3\n",
    "#    4 4 4 4\n",
    "#    5 5 5 5 5   "
   ]
  },
  {
   "cell_type": "code",
   "execution_count": 7,
   "id": "5dd5cde3",
   "metadata": {},
   "outputs": [
    {
     "name": "stdout",
     "output_type": "stream",
     "text": [
      "1\n",
      "22\n",
      "333\n",
      "4444\n",
      "55555\n"
     ]
    }
   ],
   "source": [
    "def Rtri_same_num_inc(x):\n",
    "    for i in range(1,x+1):\n",
    "        print(str(i)*i,end='\\n')\n",
    "        \n",
    "Rtri_same_num_inc(n)"
   ]
  },
  {
   "cell_type": "code",
   "execution_count": 8,
   "id": "742f467a",
   "metadata": {},
   "outputs": [],
   "source": [
    "#pattern\n",
    "#    5\n",
    "#    4 4\n",
    "#    3 3 3\n",
    "#    2 2 2 2\n",
    "#    1 1 1 1 1   "
   ]
  },
  {
   "cell_type": "code",
   "execution_count": 9,
   "id": "a2dc27cb",
   "metadata": {},
   "outputs": [
    {
     "name": "stdout",
     "output_type": "stream",
     "text": [
      "5\n",
      "44\n",
      "333\n",
      "2222\n",
      "11111\n"
     ]
    }
   ],
   "source": [
    "def Rtri_same_num_dec(x):\n",
    "    for i in range(x,0,-1):\n",
    "        print(str(i)*(x-i+1),end='\\n')\n",
    "            \n",
    "Rtri_same_num_dec(n)"
   ]
  },
  {
   "cell_type": "code",
   "execution_count": 10,
   "id": "d846e3b8",
   "metadata": {},
   "outputs": [],
   "source": [
    "#pattern\n",
    "#    5\n",
    "#    5 4\n",
    "#    5 4 3\n",
    "#    5 4 3 2\n",
    "#    5 4 3 2 1  "
   ]
  },
  {
   "cell_type": "code",
   "execution_count": 11,
   "id": "b84678c4",
   "metadata": {},
   "outputs": [
    {
     "name": "stdout",
     "output_type": "stream",
     "text": [
      "5\n",
      "54\n",
      "543\n",
      "5432\n",
      "54321\n"
     ]
    }
   ],
   "source": [
    "def Rtri_dec_step(x):\n",
    "    for i in range(x,0,-1):\n",
    "        for j in range(x,(i-1),-1):\n",
    "            print(j,end='')\n",
    "        print(end='\\n')\n",
    "        \n",
    "Rtri_dec_step(n)"
   ]
  },
  {
   "cell_type": "code",
   "execution_count": 12,
   "id": "62206a54",
   "metadata": {},
   "outputs": [],
   "source": [
    "#pattern\n",
    "#    5\n",
    "#    4 5\n",
    "#    3 4 5\n",
    "#    2 3 4 5\n",
    "#    1 2 3 4 5  "
   ]
  },
  {
   "cell_type": "code",
   "execution_count": 14,
   "id": "9b5c906a",
   "metadata": {},
   "outputs": [
    {
     "name": "stdout",
     "output_type": "stream",
     "text": [
      "5\n",
      "45\n",
      "345\n",
      "2345\n",
      "12345\n"
     ]
    }
   ],
   "source": [
    "def Rtri_dec_inc_step(x):\n",
    "    for i in range(x,0,-1):\n",
    "        for j in range(i,x+1):\n",
    "            print(j,end='')\n",
    "        print(end='\\n')\n",
    "\n",
    "Rtri_dec_inc_step(n)"
   ]
  },
  {
   "cell_type": "code",
   "execution_count": null,
   "id": "713ab212",
   "metadata": {},
   "outputs": [],
   "source": [
    "#pattern\n",
    "\n",
    "#     1\n",
    "#    12\n",
    "#   123\n",
    "#  1234\n",
    "# 12345"
   ]
  },
  {
   "cell_type": "code",
   "execution_count": 26,
   "id": "c5e33a0b",
   "metadata": {},
   "outputs": [
    {
     "name": "stdout",
     "output_type": "stream",
     "text": [
      "    1\n",
      "   12\n",
      "  123\n",
      " 1234\n",
      "12345\n"
     ]
    }
   ],
   "source": [
    "def Ltri_inc(x):\n",
    "    for i in range(1,x+1):\n",
    "        print(\" \"*(x-i),end='')\n",
    "        for j in range(1,i+1):\n",
    "            print(j,end='')\n",
    "        print(end='\\n')\n",
    "    \n",
    "Ltri_inc(n)"
   ]
  },
  {
   "cell_type": "code",
   "execution_count": null,
   "id": "682d9a44",
   "metadata": {},
   "outputs": [],
   "source": [
    "#pattern\n",
    "\n",
    "#    5\n",
    "#   54\n",
    "#  543\n",
    "# 5432\n",
    "#54321"
   ]
  },
  {
   "cell_type": "code",
   "execution_count": 33,
   "id": "3a58f09d",
   "metadata": {},
   "outputs": [
    {
     "name": "stdout",
     "output_type": "stream",
     "text": [
      "    5\n",
      "   54\n",
      "  543\n",
      " 5432\n",
      "54321\n"
     ]
    }
   ],
   "source": [
    "def Ltri_dec(x):\n",
    "    for i in range(1,x+1):\n",
    "        print(\" \"*(x-i),end='')\n",
    "        for j in range(x,x-i,-1):\n",
    "            print(j,end='')\n",
    "        print(end='\\n')\n",
    "\n",
    "Ltri_dec(n)"
   ]
  },
  {
   "cell_type": "code",
   "execution_count": null,
   "id": "3810e31d",
   "metadata": {},
   "outputs": [],
   "source": [
    "#pattern\n",
    "\n",
    "#    1\n",
    "#   21\n",
    "#  321\n",
    "# 4321\n",
    "#54321"
   ]
  },
  {
   "cell_type": "code",
   "execution_count": 31,
   "id": "56b7f621",
   "metadata": {},
   "outputs": [
    {
     "name": "stdout",
     "output_type": "stream",
     "text": [
      "    1\n",
      "   21\n",
      "  321\n",
      " 4321\n",
      "54321\n"
     ]
    }
   ],
   "source": [
    "def Ltri_dec(x):\n",
    "    for i in range(1,x+1):\n",
    "        print(\" \"*(x-i),end='')\n",
    "        for j in range(i,0,-1):\n",
    "            print(j,end='')\n",
    "        print(end='\\n')\n",
    "\n",
    "Ltri_dec(n)"
   ]
  },
  {
   "cell_type": "code",
   "execution_count": null,
   "id": "9eb927cf",
   "metadata": {},
   "outputs": [],
   "source": [
    "#pattern\n",
    "\n",
    "#    1\n",
    "#   22\n",
    "#  333\n",
    "# 4444\n",
    "#55555"
   ]
  },
  {
   "cell_type": "code",
   "execution_count": 42,
   "id": "059de8f2",
   "metadata": {},
   "outputs": [
    {
     "name": "stdout",
     "output_type": "stream",
     "text": [
      "     1\n",
      "    22\n",
      "   333\n",
      "  4444\n",
      " 55555\n",
      "\n"
     ]
    }
   ],
   "source": [
    "def Ltri_inc_same(x):\n",
    "    for i in range(1,x+1):\n",
    "        print(\" \"*(x-i),(str(i)*i))\n",
    "    print(end='\\n')\n",
    "        \n",
    "Ltri_inc_same(n)"
   ]
  },
  {
   "cell_type": "code",
   "execution_count": null,
   "id": "5d67ff59",
   "metadata": {},
   "outputs": [],
   "source": [
    "#pattern\n",
    "\n",
    "#    5\n",
    "#   44\n",
    "#  333\n",
    "# 2222\n",
    "#11111"
   ]
  },
  {
   "cell_type": "code",
   "execution_count": 46,
   "id": "653c2021",
   "metadata": {},
   "outputs": [
    {
     "name": "stdout",
     "output_type": "stream",
     "text": [
      "     5\n",
      "    44\n",
      "   333\n",
      "  2222\n",
      " 11111\n"
     ]
    }
   ],
   "source": [
    "def Ltri_dec_same(x):\n",
    "    j=x\n",
    "    for i in range(1,x+1):\n",
    "        print(\" \"*(x-i),str(j)*i,end='\\n')\n",
    "        j-=1\n",
    "        \n",
    "Ltri_dec_same(n)"
   ]
  },
  {
   "cell_type": "code",
   "execution_count": null,
   "id": "91e722c2",
   "metadata": {},
   "outputs": [],
   "source": []
  }
 ],
 "metadata": {
  "kernelspec": {
   "display_name": "Python 3 (ipykernel)",
   "language": "python",
   "name": "python3"
  },
  "language_info": {
   "codemirror_mode": {
    "name": "ipython",
    "version": 3
   },
   "file_extension": ".py",
   "mimetype": "text/x-python",
   "name": "python",
   "nbconvert_exporter": "python",
   "pygments_lexer": "ipython3",
   "version": "3.9.12"
  }
 },
 "nbformat": 4,
 "nbformat_minor": 5
}
