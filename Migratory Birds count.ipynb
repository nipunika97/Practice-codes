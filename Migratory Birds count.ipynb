{
 "cells": [
  {
   "cell_type": "code",
   "execution_count": 13,
   "id": "67e1121d",
   "metadata": {},
   "outputs": [
    {
     "data": {
      "text/plain": [
       "[1, 1, 2, 2, 3, 4, 4]"
      ]
     },
     "execution_count": 13,
     "metadata": {},
     "output_type": "execute_result"
    }
   ],
   "source": [
    "arr = [1,4,4,1,2,2,3]\n",
    "arr.sort()\n",
    "arr"
   ]
  },
  {
   "cell_type": "code",
   "execution_count": 14,
   "id": "4d697581",
   "metadata": {},
   "outputs": [
    {
     "data": {
      "text/plain": [
       "[1, 2, 3, 4]"
      ]
     },
     "execution_count": 14,
     "metadata": {},
     "output_type": "execute_result"
    }
   ],
   "source": [
    "ar1=[]\n",
    "for i in arr:\n",
    "    if i not in ar1:\n",
    "        ar1.append(i)\n",
    "ar1"
   ]
  },
  {
   "cell_type": "code",
   "execution_count": 15,
   "id": "dbb7e3cf",
   "metadata": {},
   "outputs": [
    {
     "data": {
      "text/plain": [
       "[2, 2, 1, 2]"
      ]
     },
     "execution_count": 15,
     "metadata": {},
     "output_type": "execute_result"
    }
   ],
   "source": [
    "clcc=[]\n",
    "\n",
    "arr2=[]\n",
    "for i in ar1:\n",
    "    count=0\n",
    "    tmp=i\n",
    "    for j in arr:\n",
    "        if j==tmp:\n",
    "                count+=1\n",
    "\n",
    "    clcc.append(count)\n",
    "clcc        "
   ]
  },
  {
   "cell_type": "code",
   "execution_count": 17,
   "id": "8d67147d",
   "metadata": {},
   "outputs": [
    {
     "data": {
      "text/plain": [
       "2"
      ]
     },
     "execution_count": 17,
     "metadata": {},
     "output_type": "execute_result"
    }
   ],
   "source": [
    "m=max(clcc)\n",
    "m"
   ]
  },
  {
   "cell_type": "code",
   "execution_count": 21,
   "id": "5773cdc6",
   "metadata": {},
   "outputs": [
    {
     "data": {
      "text/plain": [
       "1"
      ]
     },
     "execution_count": 21,
     "metadata": {},
     "output_type": "execute_result"
    }
   ],
   "source": [
    "res=[]\n",
    "for i in range(len(clcc)):\n",
    "    if clcc[i]==m:\n",
    "        res.append(ar1[i])\n",
    "min(res)"
   ]
  },
  {
   "cell_type": "code",
   "execution_count": null,
   "id": "12c0abc6",
   "metadata": {},
   "outputs": [],
   "source": []
  }
 ],
 "metadata": {
  "kernelspec": {
   "display_name": "Python 3 (ipykernel)",
   "language": "python",
   "name": "python3"
  },
  "language_info": {
   "codemirror_mode": {
    "name": "ipython",
    "version": 3
   },
   "file_extension": ".py",
   "mimetype": "text/x-python",
   "name": "python",
   "nbconvert_exporter": "python",
   "pygments_lexer": "ipython3",
   "version": "3.9.12"
  }
 },
 "nbformat": 4,
 "nbformat_minor": 5
}
