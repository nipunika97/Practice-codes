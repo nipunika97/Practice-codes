{
 "cells": [
  {
   "cell_type": "code",
   "execution_count": 1,
   "id": "dc439be9",
   "metadata": {},
   "outputs": [
    {
     "name": "stdout",
     "output_type": "stream",
     "text": [
      "enter: dog cat very big cat god oh no dog dog\n"
     ]
    },
    {
     "data": {
      "text/plain": [
       "['dog', 'cat', 'very', 'big', 'cat', 'god', 'oh', 'no', 'dog', 'dog']"
      ]
     },
     "execution_count": 1,
     "metadata": {},
     "output_type": "execute_result"
    }
   ],
   "source": [
    "st=list(input(\"enter: \").split())\n",
    "st"
   ]
  },
  {
   "cell_type": "code",
   "execution_count": 4,
   "id": "27b3eafd",
   "metadata": {},
   "outputs": [
    {
     "name": "stdout",
     "output_type": "stream",
     "text": [
      "enter word, whose no. of occurences to be found in the sentence:   cat\n"
     ]
    }
   ],
   "source": [
    "wrd=input(\"enter word, whose no. of occurences to be found in the sentence:   \")"
   ]
  },
  {
   "cell_type": "code",
   "execution_count": 6,
   "id": "eedb3d62",
   "metadata": {},
   "outputs": [
    {
     "name": "stdout",
     "output_type": "stream",
     "text": [
      "The word dog occurs 2 times\n"
     ]
    }
   ],
   "source": [
    "c=0\n",
    "for i in st:\n",
    "    if i==wrd:\n",
    "        c+=1\n",
    "print(\"The word {} occurs {} times\".format(i,c))"
   ]
  }
 ],
 "metadata": {
  "kernelspec": {
   "display_name": "Python 3 (ipykernel)",
   "language": "python",
   "name": "python3"
  },
  "language_info": {
   "codemirror_mode": {
    "name": "ipython",
    "version": 3
   },
   "file_extension": ".py",
   "mimetype": "text/x-python",
   "name": "python",
   "nbconvert_exporter": "python",
   "pygments_lexer": "ipython3",
   "version": "3.9.12"
  }
 },
 "nbformat": 4,
 "nbformat_minor": 5
}
